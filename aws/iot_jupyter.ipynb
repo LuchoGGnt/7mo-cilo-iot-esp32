{
 "cells": [
  {
   "cell_type": "code",
   "execution_count": 9,
   "id": "1b09c73a-cf6b-46c9-9dbe-9bc96ab44bae",
   "metadata": {},
   "outputs": [
    {
     "name": "stdout",
     "output_type": "stream",
     "text": [
      "Descargando 's3://datos-iot-fisi/results (1).csv' a la instancia local...\n",
      "¡Archivo descargado con éxito!\n",
      "\n",
      "Cargando el archivo 'results (1).csv' para procesarlo...\n",
      "Procesamiento de datos completado.\n",
      "\n",
      "Subiendo archivo procesado a 's3://datos-iot-fisi/calidad-aire/datos-procesados/datos_procesados_para_rcf.csv'...\n",
      "--------------------------------------------------\n",
      "¡PROCESO FINALIZADO! ✅\n",
      "El archivo procesado ya está en tu bucket S3.\n",
      "\n",
      "🚨 **Importante**: El valor para el hiperparámetro 'feature_dim' de tu modelo es: 6\n",
      "--------------------------------------------------\n"
     ]
    }
   ],
   "source": [
    "import pandas as pd\n",
    "import boto3\n",
    "import os\n",
    "\n",
    "# --- 1. Configuración de Rutas en S3 ---\n",
    "# 🚨 ¡Actualiza estas 4 variables con tus datos!\n",
    "\n",
    "# Bucket donde se encuentra el archivo ORIGINAL\n",
    "source_bucket = 'datos-iot-fisi' \n",
    "# Ruta completa (prefijo + nombre) del archivo ORIGINAL\n",
    "source_key = 'results (1).csv' \n",
    "\n",
    "# Bucket donde se guardará el archivo PROCESADO (puede ser el mismo)\n",
    "destination_bucket = 'datos-iot-fisi'\n",
    "# Carpeta (prefijo) donde se guardará el archivo PROCESADO\n",
    "destination_prefix = 'calidad-aire/datos-procesados'\n",
    "\n",
    "# --- No es necesario cambiar nada debajo de esta línea ---\n",
    "\n",
    "# Nombre del archivo local (temporal)\n",
    "local_filename = os.path.basename(source_key)\n",
    "\n",
    "try:\n",
    "    # --- 2. Descargar el Archivo desde S3 ---\n",
    "    print(f\"Descargando 's3://{source_bucket}/{source_key}' a la instancia local...\")\n",
    "    s3_client = boto3.client('s3')\n",
    "    s3_client.download_file(source_bucket, source_key, local_filename)\n",
    "    print(\"¡Archivo descargado con éxito!\")\n",
    "\n",
    "    # --- 3. Cargar y Procesar los Datos con Pandas ---\n",
    "    print(f\"\\nCargando el archivo '{local_filename}' para procesarlo...\")\n",
    "    df = pd.read_csv(local_filename)\n",
    "\n",
    "    # Ingeniería de Características para 'timestamp'\n",
    "    df['timestamp'] = pd.to_datetime(df['timestamp'])\n",
    "    df['hora_del_dia'] = df['timestamp'].dt.hour\n",
    "    df['dia_de_la_semana'] = df['timestamp'].dt.dayofweek\n",
    "    df['mes'] = df['timestamp'].dt.month\n",
    "    df = df.drop('timestamp', axis=1)\n",
    "\n",
    "    # Drop estado del aire\n",
    "    df = df.drop('estado_aire', axis=1)\n",
    "\n",
    "    #pequeña limpieza temperatura = '-10\n",
    "    df = df[df['temperature'] != '\\'-10']\n",
    "    \n",
    "    print(\"Procesamiento de datos completado.\")\n",
    "\n",
    "    # --- 4. Guardar y Subir el Archivo Procesado a S3 ---\n",
    "    final_feature_dim = len(df.columns)\n",
    "    processed_filename = 'datos_procesados_para_rcf.csv'\n",
    "    \n",
    "    # Guardar localmente sin encabezados ni índice\n",
    "    df.to_csv(processed_filename, header=False, index=False)\n",
    "\n",
    "    # Subir el nuevo archivo a S3\n",
    "    destination_key = f\"{destination_prefix}/{processed_filename}\"\n",
    "    print(f\"\\nSubiendo archivo procesado a 's3://{destination_bucket}/{destination_key}'...\")\n",
    "    s3_client.upload_file(processed_filename, destination_bucket, destination_key)\n",
    "    \n",
    "    print(\"-\" * 50)\n",
    "    print(\"¡PROCESO FINALIZADO! ✅\")\n",
    "    print(f\"El archivo procesado ya está en tu bucket S3.\")\n",
    "    print(f\"\\n🚨 **Importante**: El valor para el hiperparámetro 'feature_dim' de tu modelo es: {final_feature_dim}\")\n",
    "    print(\"-\" * 50)\n",
    "\n",
    "\n",
    "except Exception as e:\n",
    "    print(f\"Ocurrió un error: {e}\")"
   ]
  },
  {
   "cell_type": "code",
   "execution_count": 10,
   "id": "648d36ae-2114-4649-bd1a-f7c509710215",
   "metadata": {},
   "outputs": [
    {
     "name": "stdout",
     "output_type": "stream",
     "text": [
      "Cargando datos desde S3 a Pandas...\n",
      "¡Datos cargados con éxito!\n",
      "\n",
      "Primeras 5 filas del DataFrame:\n",
      "      0   1     2   3  4  5\n",
      "0  1088  75  21.0  22  2  7\n",
      "1  1089  77  21.0  23  2  7\n",
      "2  1044  76  21.4  23  2  7\n",
      "3  1281  75  21.4  21  2  7\n",
      "4  1065  77  21.0  23  2  7\n",
      "\n",
      "Iniciando el entrenamiento...\n"
     ]
    },
    {
     "name": "stderr",
     "output_type": "stream",
     "text": [
      "INFO:sagemaker.image_uris:Same images used for training and inference. Defaulting to image scope: inference.\n",
      "INFO:sagemaker.image_uris:Ignoring unnecessary instance type: None.\n",
      "INFO:sagemaker:Creating training-job with name: randomcutforest-2025-07-12-18-30-42-570\n"
     ]
    },
    {
     "name": "stdout",
     "output_type": "stream",
     "text": [
      "2025-07-12 18:30:44 Starting - Starting the training job...\n",
      "2025-07-12 18:31:18 Downloading - Downloading input data......\n",
      "2025-07-12 18:31:53 Downloading - Downloading the training image.........\n",
      "2025-07-12 18:33:44 Training - Training image download completed. Training in progress..\u001b[34mDocker entrypoint called with argument(s): train\u001b[0m\n",
      "\u001b[34mRunning default environment configuration script\u001b[0m\n",
      "\u001b[34m/opt/amazon/lib/python3.8/site-packages/mxnet/model.py:97: SyntaxWarning: \"is\" with a literal. Did you mean \"==\"?\n",
      "  if num_device is 1 and 'dist' not in kvstore:\u001b[0m\n",
      "\u001b[34m/opt/amazon/lib/python3.8/site-packages/scipy/optimize/_shgo.py:495: SyntaxWarning: \"is\" with a literal. Did you mean \"==\"?\n",
      "  if cons['type'] is 'ineq':\u001b[0m\n",
      "\u001b[34m/opt/amazon/lib/python3.8/site-packages/scipy/optimize/_shgo.py:743: SyntaxWarning: \"is not\" with a literal. Did you mean \"!=\"?\n",
      "  if len(self.X_min) is not 0:\u001b[0m\n",
      "\u001b[34m[07/12/2025 18:33:51 INFO 139901168248640] Reading default configuration from /opt/amazon/lib/python3.8/site-packages/algorithm/resources/default-conf.json: {'num_samples_per_tree': 256, 'num_trees': 100, 'force_dense': 'true', 'eval_metrics': ['accuracy', 'precision_recall_fscore'], 'epochs': 1, 'mini_batch_size': 1000, '_log_level': 'info', '_kvstore': 'dist_async', '_num_kv_servers': 'auto', '_num_gpus': 'auto', '_tuning_objective_metric': '', '_ftp_port': 8999}\u001b[0m\n",
      "\u001b[34m[07/12/2025 18:33:51 INFO 139901168248640] Merging with provided configuration from /opt/ml/input/config/hyperparameters.json: {'feature_dim': '6', 'mini_batch_size': '1000', 'num_samples_per_tree': '256', 'num_trees': '100'}\u001b[0m\n",
      "\u001b[34m[07/12/2025 18:33:51 INFO 139901168248640] Final configuration: {'num_samples_per_tree': '256', 'num_trees': '100', 'force_dense': 'true', 'eval_metrics': ['accuracy', 'precision_recall_fscore'], 'epochs': 1, 'mini_batch_size': '1000', '_log_level': 'info', '_kvstore': 'dist_async', '_num_kv_servers': 'auto', '_num_gpus': 'auto', '_tuning_objective_metric': '', '_ftp_port': 8999, 'feature_dim': '6'}\u001b[0m\n",
      "\u001b[34m[07/12/2025 18:33:51 WARNING 139901168248640] Loggers have already been setup.\u001b[0m\n",
      "\u001b[34m[07/12/2025 18:33:51 INFO 139901168248640] Launching parameter server for role scheduler\u001b[0m\n",
      "\u001b[34m[07/12/2025 18:33:51 INFO 139901168248640] {'ENVROOT': '/opt/amazon', 'PROTOCOL_BUFFERS_PYTHON_IMPLEMENTATION': 'cpp', 'HOSTNAME': 'ip-10-0-147-234.us-east-2.compute.internal', 'TRAINING_JOB_NAME': 'randomcutforest-2025-07-12-18-30-42-570', 'NVIDIA_REQUIRE_CUDA': 'cuda>=9.0', 'TRAINING_JOB_ARN': 'arn:aws:sagemaker:us-east-2:581549954809:training-job/randomcutforest-2025-07-12-18-30-42-570', 'AWS_CONTAINER_CREDENTIALS_RELATIVE_URI': '/v2/credentials/proxy-8cad413bfe72bc5918afe2cd60af5036386d07dabe6845d687f24c2b65167f31-customer', 'CANONICAL_ENVROOT': '/opt/amazon', 'PYTHONUNBUFFERED': 'TRUE', 'NVIDIA_VISIBLE_DEVICES': 'all', 'LD_LIBRARY_PATH': '/opt/amazon/lib/python3.8/site-packages/cv2/../../../../lib:/usr/local/nvidia/lib64:/opt/amazon/lib', 'MXNET_KVSTORE_BIGARRAY_BOUND': '400000000', 'NVIDIA_DRIVER_CAPABILITIES': 'compute,utility', 'SAGEMAKER_MANAGED_WARMPOOL_CACHE_DIRECTORY': '/opt/ml/sagemaker/warmpoolcache', 'PATH': '/opt/amazon/bin:/usr/local/nvidia/bin:/usr/local/sbin:/usr/local/bin:/usr/sbin:/usr/bin:/sbin:/bin', 'PWD': '/', 'LANG': 'en_US.utf8', 'AWS_REGION': 'us-east-2', 'SAGEMAKER_METRICS_DIRECTORY': '/opt/ml/output/metrics/sagemaker', 'CUDA_VERSION': '11.1', 'HOME': '/root', 'SHLVL': '1', 'CUDA_COMPAT_NDRIVER_SUPPORTED_VERSION': '455.32.00', 'PROTOCOL_BUFFERS_PYTHON_IMPLEMENTATION_VERSION': '2', 'OMP_NUM_THREADS': '1', 'DMLC_INTERFACE': 'eth0', 'SAGEMAKER_HTTP_PORT': '8080', 'SAGEMAKER_DATA_PATH': '/opt/ml', 'KMP_DUPLICATE_LIB_OK': 'True', 'KMP_INIT_AT_FORK': 'FALSE'}\u001b[0m\n",
      "\u001b[34m[07/12/2025 18:33:51 INFO 139901168248640] envs={'ENVROOT': '/opt/amazon', 'PROTOCOL_BUFFERS_PYTHON_IMPLEMENTATION': 'cpp', 'HOSTNAME': 'ip-10-0-147-234.us-east-2.compute.internal', 'TRAINING_JOB_NAME': 'randomcutforest-2025-07-12-18-30-42-570', 'NVIDIA_REQUIRE_CUDA': 'cuda>=9.0', 'TRAINING_JOB_ARN': 'arn:aws:sagemaker:us-east-2:581549954809:training-job/randomcutforest-2025-07-12-18-30-42-570', 'AWS_CONTAINER_CREDENTIALS_RELATIVE_URI': '/v2/credentials/proxy-8cad413bfe72bc5918afe2cd60af5036386d07dabe6845d687f24c2b65167f31-customer', 'CANONICAL_ENVROOT': '/opt/amazon', 'PYTHONUNBUFFERED': 'TRUE', 'NVIDIA_VISIBLE_DEVICES': 'all', 'LD_LIBRARY_PATH': '/opt/amazon/lib/python3.8/site-packages/cv2/../../../../lib:/usr/local/nvidia/lib64:/opt/amazon/lib', 'MXNET_KVSTORE_BIGARRAY_BOUND': '400000000', 'NVIDIA_DRIVER_CAPABILITIES': 'compute,utility', 'SAGEMAKER_MANAGED_WARMPOOL_CACHE_DIRECTORY': '/opt/ml/sagemaker/warmpoolcache', 'PATH': '/opt/amazon/bin:/usr/local/nvidia/bin:/usr/local/sbin:/usr/local/bin:/usr/sbin:/usr/bin:/sbin:/bin', 'PWD': '/', 'LANG': 'en_US.utf8', 'AWS_REGION': 'us-east-2', 'SAGEMAKER_METRICS_DIRECTORY': '/opt/ml/output/metrics/sagemaker', 'CUDA_VERSION': '11.1', 'HOME': '/root', 'SHLVL': '1', 'CUDA_COMPAT_NDRIVER_SUPPORTED_VERSION': '455.32.00', 'PROTOCOL_BUFFERS_PYTHON_IMPLEMENTATION_VERSION': '2', 'OMP_NUM_THREADS': '1', 'DMLC_INTERFACE': 'eth0', 'SAGEMAKER_HTTP_PORT': '8080', 'SAGEMAKER_DATA_PATH': '/opt/ml', 'KMP_DUPLICATE_LIB_OK': 'True', 'KMP_INIT_AT_FORK': 'FALSE', 'DMLC_ROLE': 'scheduler', 'DMLC_PS_ROOT_URI': '10.0.147.234', 'DMLC_PS_ROOT_PORT': '9000', 'DMLC_NUM_SERVER': '1', 'DMLC_NUM_WORKER': '1'}\u001b[0m\n",
      "\u001b[34m[07/12/2025 18:33:51 INFO 139901168248640] Launching parameter server for role server\u001b[0m\n",
      "\u001b[34m[07/12/2025 18:33:51 INFO 139901168248640] {'ENVROOT': '/opt/amazon', 'PROTOCOL_BUFFERS_PYTHON_IMPLEMENTATION': 'cpp', 'HOSTNAME': 'ip-10-0-147-234.us-east-2.compute.internal', 'TRAINING_JOB_NAME': 'randomcutforest-2025-07-12-18-30-42-570', 'NVIDIA_REQUIRE_CUDA': 'cuda>=9.0', 'TRAINING_JOB_ARN': 'arn:aws:sagemaker:us-east-2:581549954809:training-job/randomcutforest-2025-07-12-18-30-42-570', 'AWS_CONTAINER_CREDENTIALS_RELATIVE_URI': '/v2/credentials/proxy-8cad413bfe72bc5918afe2cd60af5036386d07dabe6845d687f24c2b65167f31-customer', 'CANONICAL_ENVROOT': '/opt/amazon', 'PYTHONUNBUFFERED': 'TRUE', 'NVIDIA_VISIBLE_DEVICES': 'all', 'LD_LIBRARY_PATH': '/opt/amazon/lib/python3.8/site-packages/cv2/../../../../lib:/usr/local/nvidia/lib64:/opt/amazon/lib', 'MXNET_KVSTORE_BIGARRAY_BOUND': '400000000', 'NVIDIA_DRIVER_CAPABILITIES': 'compute,utility', 'SAGEMAKER_MANAGED_WARMPOOL_CACHE_DIRECTORY': '/opt/ml/sagemaker/warmpoolcache', 'PATH': '/opt/amazon/bin:/usr/local/nvidia/bin:/usr/local/sbin:/usr/local/bin:/usr/sbin:/usr/bin:/sbin:/bin', 'PWD': '/', 'LANG': 'en_US.utf8', 'AWS_REGION': 'us-east-2', 'SAGEMAKER_METRICS_DIRECTORY': '/opt/ml/output/metrics/sagemaker', 'CUDA_VERSION': '11.1', 'HOME': '/root', 'SHLVL': '1', 'CUDA_COMPAT_NDRIVER_SUPPORTED_VERSION': '455.32.00', 'PROTOCOL_BUFFERS_PYTHON_IMPLEMENTATION_VERSION': '2', 'OMP_NUM_THREADS': '1', 'DMLC_INTERFACE': 'eth0', 'SAGEMAKER_HTTP_PORT': '8080', 'SAGEMAKER_DATA_PATH': '/opt/ml', 'KMP_DUPLICATE_LIB_OK': 'True', 'KMP_INIT_AT_FORK': 'FALSE'}\u001b[0m\n",
      "\u001b[34m[07/12/2025 18:33:51 INFO 139901168248640] envs={'ENVROOT': '/opt/amazon', 'PROTOCOL_BUFFERS_PYTHON_IMPLEMENTATION': 'cpp', 'HOSTNAME': 'ip-10-0-147-234.us-east-2.compute.internal', 'TRAINING_JOB_NAME': 'randomcutforest-2025-07-12-18-30-42-570', 'NVIDIA_REQUIRE_CUDA': 'cuda>=9.0', 'TRAINING_JOB_ARN': 'arn:aws:sagemaker:us-east-2:581549954809:training-job/randomcutforest-2025-07-12-18-30-42-570', 'AWS_CONTAINER_CREDENTIALS_RELATIVE_URI': '/v2/credentials/proxy-8cad413bfe72bc5918afe2cd60af5036386d07dabe6845d687f24c2b65167f31-customer', 'CANONICAL_ENVROOT': '/opt/amazon', 'PYTHONUNBUFFERED': 'TRUE', 'NVIDIA_VISIBLE_DEVICES': 'all', 'LD_LIBRARY_PATH': '/opt/amazon/lib/python3.8/site-packages/cv2/../../../../lib:/usr/local/nvidia/lib64:/opt/amazon/lib', 'MXNET_KVSTORE_BIGARRAY_BOUND': '400000000', 'NVIDIA_DRIVER_CAPABILITIES': 'compute,utility', 'SAGEMAKER_MANAGED_WARMPOOL_CACHE_DIRECTORY': '/opt/ml/sagemaker/warmpoolcache', 'PATH': '/opt/amazon/bin:/usr/local/nvidia/bin:/usr/local/sbin:/usr/local/bin:/usr/sbin:/usr/bin:/sbin:/bin', 'PWD': '/', 'LANG': 'en_US.utf8', 'AWS_REGION': 'us-east-2', 'SAGEMAKER_METRICS_DIRECTORY': '/opt/ml/output/metrics/sagemaker', 'CUDA_VERSION': '11.1', 'HOME': '/root', 'SHLVL': '1', 'CUDA_COMPAT_NDRIVER_SUPPORTED_VERSION': '455.32.00', 'PROTOCOL_BUFFERS_PYTHON_IMPLEMENTATION_VERSION': '2', 'OMP_NUM_THREADS': '1', 'DMLC_INTERFACE': 'eth0', 'SAGEMAKER_HTTP_PORT': '8080', 'SAGEMAKER_DATA_PATH': '/opt/ml', 'KMP_DUPLICATE_LIB_OK': 'True', 'KMP_INIT_AT_FORK': 'FALSE', 'DMLC_ROLE': 'server', 'DMLC_PS_ROOT_URI': '10.0.147.234', 'DMLC_PS_ROOT_PORT': '9000', 'DMLC_NUM_SERVER': '1', 'DMLC_NUM_WORKER': '1'}\u001b[0m\n",
      "\u001b[34m[07/12/2025 18:33:51 INFO 139901168248640] Environment: {'ENVROOT': '/opt/amazon', 'PROTOCOL_BUFFERS_PYTHON_IMPLEMENTATION': 'cpp', 'HOSTNAME': 'ip-10-0-147-234.us-east-2.compute.internal', 'TRAINING_JOB_NAME': 'randomcutforest-2025-07-12-18-30-42-570', 'NVIDIA_REQUIRE_CUDA': 'cuda>=9.0', 'TRAINING_JOB_ARN': 'arn:aws:sagemaker:us-east-2:581549954809:training-job/randomcutforest-2025-07-12-18-30-42-570', 'AWS_CONTAINER_CREDENTIALS_RELATIVE_URI': '/v2/credentials/proxy-8cad413bfe72bc5918afe2cd60af5036386d07dabe6845d687f24c2b65167f31-customer', 'CANONICAL_ENVROOT': '/opt/amazon', 'PYTHONUNBUFFERED': 'TRUE', 'NVIDIA_VISIBLE_DEVICES': 'all', 'LD_LIBRARY_PATH': '/opt/amazon/lib/python3.8/site-packages/cv2/../../../../lib:/usr/local/nvidia/lib64:/opt/amazon/lib', 'MXNET_KVSTORE_BIGARRAY_BOUND': '400000000', 'NVIDIA_DRIVER_CAPABILITIES': 'compute,utility', 'SAGEMAKER_MANAGED_WARMPOOL_CACHE_DIRECTORY': '/opt/ml/sagemaker/warmpoolcache', 'PATH': '/opt/amazon/bin:/usr/local/nvidia/bin:/usr/local/sbin:/usr/local/bin:/usr/sbin:/usr/bin:/sbin:/bin', 'PWD': '/', 'LANG': 'en_US.utf8', 'AWS_REGION': 'us-east-2', 'SAGEMAKER_METRICS_DIRECTORY': '/opt/ml/output/metrics/sagemaker', 'CUDA_VERSION': '11.1', 'HOME': '/root', 'SHLVL': '1', 'CUDA_COMPAT_NDRIVER_SUPPORTED_VERSION': '455.32.00', 'PROTOCOL_BUFFERS_PYTHON_IMPLEMENTATION_VERSION': '2', 'OMP_NUM_THREADS': '1', 'DMLC_INTERFACE': 'eth0', 'SAGEMAKER_HTTP_PORT': '8080', 'SAGEMAKER_DATA_PATH': '/opt/ml', 'KMP_DUPLICATE_LIB_OK': 'True', 'KMP_INIT_AT_FORK': 'FALSE', 'DMLC_ROLE': 'worker', 'DMLC_PS_ROOT_URI': '10.0.147.234', 'DMLC_PS_ROOT_PORT': '9000', 'DMLC_NUM_SERVER': '1', 'DMLC_NUM_WORKER': '1'}\u001b[0m\n",
      "\u001b[34mProcess 33 is a shell:scheduler.\u001b[0m\n",
      "\u001b[34mProcess 42 is a shell:server.\u001b[0m\n",
      "\u001b[34mProcess 8 is a worker.\u001b[0m\n",
      "\u001b[34m[07/12/2025 18:33:51 INFO 139901168248640] Using default worker.\u001b[0m\n",
      "\u001b[34m[07/12/2025 18:33:51 INFO 139901168248640] Loaded iterator creator application/x-recordio-protobuf for content type ('application/x-recordio-protobuf', '1.0')\u001b[0m\n",
      "\u001b[34m[07/12/2025 18:33:51 INFO 139901168248640] Checkpoint loading and saving are disabled.\u001b[0m\n",
      "\u001b[34m[07/12/2025 18:33:51 INFO 139901168248640] Verifying hyperparamemters...\u001b[0m\n",
      "\u001b[34m[07/12/2025 18:33:51 INFO 139901168248640] Hyperparameters are correct.\u001b[0m\n",
      "\u001b[34m[07/12/2025 18:33:51 INFO 139901168248640] Validating that feature_dim agrees with dimensions in training data...\u001b[0m\n",
      "\u001b[34m[07/12/2025 18:33:51 INFO 139901168248640] feature_dim is correct.\u001b[0m\n",
      "\u001b[34m[07/12/2025 18:33:51 INFO 139901168248640] Validating memory limits...\u001b[0m\n",
      "\u001b[34m[07/12/2025 18:33:51 INFO 139901168248640] Available memory in bytes: 6671683584\u001b[0m\n",
      "\u001b[34m[07/12/2025 18:33:51 INFO 139901168248640] Estimated sample size in bytes: 1228800\u001b[0m\n",
      "\u001b[34m[07/12/2025 18:33:51 INFO 139901168248640] Estimated memory needed to build the forest in bytes: 6144000\u001b[0m\n",
      "\u001b[34m[07/12/2025 18:33:51 INFO 139901168248640] Memory limits validated.\u001b[0m\n",
      "\u001b[34m[07/12/2025 18:33:51 INFO 139901168248640] Starting cluster sharing facilities...\u001b[0m\n",
      "\u001b[34m[07/12/2025 18:33:51 INFO 139898482845440] concurrency model: async\u001b[0m\n",
      "\u001b[34m[07/12/2025 18:33:51 INFO 139901168248640] Create Store: dist_async\u001b[0m\n",
      "\u001b[34m[07/12/2025 18:33:51 INFO 139898482845440] masquerade (NAT) address: None\u001b[0m\n",
      "\u001b[34m[07/12/2025 18:33:51 INFO 139898482845440] passive ports: None\u001b[0m\n",
      "\u001b[34m[07/12/2025 18:33:51 INFO 139898482845440] >>> starting FTP server on 0.0.0.0:8999, pid=8 <<<\u001b[0m\n",
      "\u001b[34m[07/12/2025 18:33:52 INFO 139901168248640] Cluster sharing facilities started.\u001b[0m\n",
      "\u001b[34m[07/12/2025 18:33:52 INFO 139901168248640] Verifying all workers are accessible...\u001b[0m\n",
      "\u001b[34m[07/12/2025 18:33:52 INFO 139901168248640] All workers accessible.\u001b[0m\n",
      "\u001b[34m[07/12/2025 18:33:52 INFO 139901168248640] Initializing Sampler...\u001b[0m\n",
      "\u001b[34m[07/12/2025 18:33:52 INFO 139901168248640] Sampler correctly initialized.\u001b[0m\n",
      "\u001b[34m#metrics {\"StartTime\": 1752345231.2891858, \"EndTime\": 1752345232.7146726, \"Dimensions\": {\"Algorithm\": \"RandomCutForest\", \"Host\": \"algo-1\", \"Operation\": \"training\"}, \"Metrics\": {\"initialize.time\": {\"sum\": 1422.4553108215332, \"count\": 1, \"min\": 1422.4553108215332, \"max\": 1422.4553108215332}}}\u001b[0m\n",
      "\u001b[34m#metrics {\"StartTime\": 1752345232.714818, \"EndTime\": 1752345232.7148418, \"Dimensions\": {\"Algorithm\": \"RandomCutForest\", \"Host\": \"algo-1\", \"Operation\": \"training\", \"Meta\": \"init_train_data_iter\"}, \"Metrics\": {\"Total Records Seen\": {\"sum\": 0.0, \"count\": 1, \"min\": 0, \"max\": 0}, \"Total Batches Seen\": {\"sum\": 0.0, \"count\": 1, \"min\": 0, \"max\": 0}, \"Max Records Seen Between Resets\": {\"sum\": 0.0, \"count\": 1, \"min\": 0, \"max\": 0}, \"Max Batches Seen Between Resets\": {\"sum\": 0.0, \"count\": 1, \"min\": 0, \"max\": 0}, \"Reset Count\": {\"sum\": 0.0, \"count\": 1, \"min\": 0, \"max\": 0}, \"Number of Records Since Last Reset\": {\"sum\": 0.0, \"count\": 1, \"min\": 0, \"max\": 0}, \"Number of Batches Since Last Reset\": {\"sum\": 0.0, \"count\": 1, \"min\": 0, \"max\": 0}}}\u001b[0m\n",
      "\u001b[34m[2025-07-12 18:33:52.715] [tensorio] [info] epoch_stats={\"data_pipeline\": \"/opt/ml/input/data/train\", \"epoch\": 0, \"duration\": 1425, \"num_examples\": 1, \"num_bytes\": 48000}\u001b[0m\n",
      "\u001b[34m[07/12/2025 18:33:52 INFO 139901168248640] Sampling training data...\u001b[0m\n",
      "\u001b[34m[2025-07-12 18:33:52.724] [tensorio] [info] epoch_stats={\"data_pipeline\": \"/opt/ml/input/data/train\", \"epoch\": 1, \"duration\": 9, \"num_examples\": 2, \"num_bytes\": 57552}\u001b[0m\n",
      "\u001b[34m[07/12/2025 18:33:52 INFO 139901168248640] Sampling training data completed.\u001b[0m\n",
      "\u001b[34m#metrics {\"StartTime\": 1752345232.7147748, \"EndTime\": 1752345232.7257354, \"Dimensions\": {\"Algorithm\": \"RandomCutForest\", \"Host\": \"algo-1\", \"Operation\": \"training\"}, \"Metrics\": {\"epochs\": {\"sum\": 1.0, \"count\": 1, \"min\": 1, \"max\": 1}, \"update.time\": {\"sum\": 10.649442672729492, \"count\": 1, \"min\": 10.649442672729492, \"max\": 10.649442672729492}}}\u001b[0m\n",
      "\u001b[34m[07/12/2025 18:33:52 INFO 139901168248640] Early stop condition met. Stopping training.\u001b[0m\n",
      "\u001b[34m[07/12/2025 18:33:52 INFO 139901168248640] #progress_metric: host=algo-1, completed 100 % epochs\u001b[0m\n",
      "\u001b[34m#metrics {\"StartTime\": 1752345232.71506, \"EndTime\": 1752345232.7262886, \"Dimensions\": {\"Algorithm\": \"RandomCutForest\", \"Host\": \"algo-1\", \"Operation\": \"training\", \"epoch\": 0, \"Meta\": \"training_data_iter\"}, \"Metrics\": {\"Total Records Seen\": {\"sum\": 1199.0, \"count\": 1, \"min\": 1199, \"max\": 1199}, \"Total Batches Seen\": {\"sum\": 2.0, \"count\": 1, \"min\": 2, \"max\": 2}, \"Max Records Seen Between Resets\": {\"sum\": 1199.0, \"count\": 1, \"min\": 1199, \"max\": 1199}, \"Max Batches Seen Between Resets\": {\"sum\": 2.0, \"count\": 1, \"min\": 2, \"max\": 2}, \"Reset Count\": {\"sum\": 1.0, \"count\": 1, \"min\": 1, \"max\": 1}, \"Number of Records Since Last Reset\": {\"sum\": 1199.0, \"count\": 1, \"min\": 1199, \"max\": 1199}, \"Number of Batches Since Last Reset\": {\"sum\": 2.0, \"count\": 1, \"min\": 2, \"max\": 2}}}\u001b[0m\n",
      "\u001b[34m[07/12/2025 18:33:52 INFO 139901168248640] #throughput_metric: host=algo-1, train throughput=105149.19388629854 records/second\u001b[0m\n",
      "\u001b[34m[07/12/2025 18:33:52 INFO 139901168248640] Master node: building Random Cut Forest...\u001b[0m\n",
      "\u001b[34m[07/12/2025 18:33:52 INFO 139901168248640] Gathering samples...\u001b[0m\n",
      "\u001b[34m[07/12/2025 18:33:52 INFO 139901168248640] 1199 samples gathered\u001b[0m\n",
      "\u001b[34m[07/12/2025 18:33:52 INFO 139901168248640] Building Random Cut Forest...\u001b[0m\n",
      "\u001b[34m[07/12/2025 18:33:52 INFO 139901168248640] Random Cut Forest built: \u001b[0m\n",
      "\u001b[34mForestInfo{num_trees: 100, num_samples_in_forest: 1100, num_samples_per_tree: 11, sample_dim: 6, shingle_size: 1, trees_num_nodes: [21, 21, 21, 21, 21, 21, 21, 21, 21, 21, 21, 21, 19, 19, 21, 21, 21, 21, 21, 21, 21, 21, 21, 21, 21, 21, 21, 21, 21, 21, 21, 21, 21, 21, 21, 21, 21, 21, 21, 21, 21, 21, 21, 21, 19, 21, 21, 21, 21, 21, 21, 19, 21, 21, 21, 21, 21, 21, 19, 21, 19, 21, 21, 21, 21, 19, 21, 21, 21, 21, 21, 21, 21, 21, 21, 21, 21, 21, 21, 21, 21, 21, 21, 21, 19, 21, 21, 21, 19, 21, 21, 21, 21, 21, 21, 21, 21, 21, 21, 21, ], trees_depth: [9, 5, 7, 6, 7, 6, 6, 7, 7, 7, 5, 6, 7, 6, 5, 8, 7, 9, 7, 6, 7, 7, 6, 6, 6, 5, 6, 9, 6, 7, 5, 8, 7, 8, 8, 7, 6, 7, 6, 7, 8, 9, 9, 7, 8, 6, 7, 7, 7, 8, 7, 6, 7, 9, 6, 6, 6, 7, 7, 6, 6, 6, 6, 7, 7, 6, 8, 6, 8, 8, 7, 9, 6, 6, 7, 6, 7, 6, 7, 7, 8, 8, 7, 7, 8, 6, 7, 7, 8, 7, 8, 5, 7, 7, 5, 8, 7, 7, 7, 6, ], max_num_nodes: 21, min_num_nodes: 19, avg_num_nodes: 20, max_tree_depth: 9, min_tree_depth: 5, avg_tree_depth: 6, mem_size: 383936}\u001b[0m\n",
      "\u001b[34m#metrics {\"StartTime\": 1752345232.725981, \"EndTime\": 1752345232.732912, \"Dimensions\": {\"Algorithm\": \"RandomCutForest\", \"Host\": \"algo-1\", \"Operation\": \"training\"}, \"Metrics\": {\"fit_model.time\": {\"sum\": 3.3407211303710938, \"count\": 1, \"min\": 3.3407211303710938, \"max\": 3.3407211303710938}, \"model.bytes\": {\"sum\": 383936.0, \"count\": 1, \"min\": 383936, \"max\": 383936}, \"finalize.time\": {\"sum\": 6.227254867553711, \"count\": 1, \"min\": 6.227254867553711, \"max\": 6.227254867553711}}}\u001b[0m\n",
      "\u001b[34m[07/12/2025 18:33:52 INFO 139901168248640] Master node: Serializing the RandomCutForest model\u001b[0m\n",
      "\u001b[34m#metrics {\"StartTime\": 1752345232.7330036, \"EndTime\": 1752345232.7425046, \"Dimensions\": {\"Algorithm\": \"RandomCutForest\", \"Host\": \"algo-1\", \"Operation\": \"training\"}, \"Metrics\": {\"serialize_model.time\": {\"sum\": 9.465932846069336, \"count\": 1, \"min\": 9.465932846069336, \"max\": 9.465932846069336}}}\u001b[0m\n",
      "\u001b[34m[07/12/2025 18:33:52 INFO 139901168248640] Test data is not provided.\u001b[0m\n",
      "\u001b[34m#metrics {\"StartTime\": 1752345232.7425575, \"EndTime\": 1752345232.7433822, \"Dimensions\": {\"Algorithm\": \"RandomCutForest\", \"Host\": \"algo-1\", \"Operation\": \"training\"}, \"Metrics\": {\"setuptime\": {\"sum\": 52.333831787109375, \"count\": 1, \"min\": 52.333831787109375, \"max\": 52.333831787109375}, \"totaltime\": {\"sum\": 1516.0577297210693, \"count\": 1, \"min\": 1516.0577297210693, \"max\": 1516.0577297210693}}}\u001b[0m\n",
      "\n",
      "2025-07-12 18:34:12 Uploading - Uploading generated training model\n",
      "2025-07-12 18:34:12 Completed - Training job completed\n",
      "Training seconds: 175\n",
      "Billable seconds: 175\n",
      "¡Entrenamiento completado! ✅\n"
     ]
    }
   ],
   "source": [
    "import pandas as pd\n",
    "import numpy as np\n",
    "import sagemaker\n",
    "from sagemaker.amazon.amazon_estimator import RecordSet # Necesario para el formato de datos\n",
    "from sagemaker import RandomCutForest # La nueva clase que estás usando\n",
    "\n",
    "# --- 1. Configuración ---\n",
    "session = sagemaker.Session()\n",
    "bucket = 'datos-iot-fisi' # Definimos el bucket para más claridad\n",
    "prefix = 'calidad-aire/datos-procesados' # El prefijo/carpeta\n",
    "s3_path = f's3://{bucket}/{prefix}/' # SageMaker espera una ruta a la carpeta, no al archivo\n",
    "file_name = 'datos_procesados_para_rcf.csv'\n",
    "# Rol de ejecución\n",
    "role = sagemaker.get_execution_role()\n",
    "\n",
    "# --- 2. Cargar los datos de S3 a un DataFrame de Pandas ---\n",
    "# Esta es la línea que te faltaba. \n",
    "# Pandas puede leer directamente de S3.\n",
    "# Usamos header=None porque tu archivo procesado no tiene encabezados.\n",
    "print(\"Cargando datos desde S3 a Pandas...\")\n",
    "s3_file_path = f's3://{bucket}/{prefix}/{file_name}'\n",
    "df = pd.read_csv(s3_file_path, header=None)\n",
    "print(\"¡Datos cargados con éxito!\")\n",
    "print(\"\\nPrimeras 5 filas del DataFrame:\")\n",
    "print(df.head())\n",
    "\n",
    "\n",
    "# --- 3. Instanciar el modelo ---\n",
    "# El código que ya tenías está perfecto.\n",
    "# El parámetro 'data_location' le dice al modelo dónde encontrar los datos en S3.\n",
    "rcf = RandomCutForest(\n",
    "    role=role,\n",
    "    instance_count=1,\n",
    "    instance_type='ml.m5.large',\n",
    "    data_location=s3_path, # ¡Importante! Esto apunta a la carpeta en S3\n",
    "    num_samples_per_tree=256,\n",
    "    num_trees=100,\n",
    "    sagemaker_session=session\n",
    ")\n",
    "\n",
    "# --- 4. Entrenar el modelo (con la corrección) ---\n",
    "print(\"\\nIniciando el entrenamiento...\")\n",
    "\n",
    "# Convertimos los valores del DataFrame a un array de floats y creamos el RecordSet\n",
    "train_data = df.values.astype('float32')\n",
    "rcf.fit(rcf.record_set(train_data))\n",
    "\n",
    "print(\"¡Entrenamiento completado! ✅\")"
   ]
  },
  {
   "cell_type": "code",
   "execution_count": 11,
   "id": "aacc5c05-268f-4e2c-a612-3959e2eed2b0",
   "metadata": {},
   "outputs": [
    {
     "name": "stderr",
     "output_type": "stream",
     "text": [
      "INFO:sagemaker.image_uris:Same images used for training and inference. Defaulting to image scope: inference.\n",
      "INFO:sagemaker.image_uris:Ignoring unnecessary instance type: None.\n",
      "INFO:sagemaker:Creating model with name: randomcutforest-2025-07-12-18-41-11-487\n"
     ]
    },
    {
     "name": "stdout",
     "output_type": "stream",
     "text": [
      "\n",
      "Desplegando el modelo en un endpoint... 🚀\n"
     ]
    },
    {
     "name": "stderr",
     "output_type": "stream",
     "text": [
      "INFO:sagemaker:Creating endpoint-config with name rcf-calidad-aire-endpoint\n",
      "INFO:sagemaker:Creating endpoint with name rcf-calidad-aire-endpoint\n"
     ]
    },
    {
     "name": "stdout",
     "output_type": "stream",
     "text": [
      "--------!¡Endpoint 'rcf-calidad-aire-endpoint' desplegado y listo!\n"
     ]
    }
   ],
   "source": [
    "# --- 5. Desplegar el modelo como un endpoint ---\n",
    "\n",
    "print(\"\\nDesplegando el modelo en un endpoint... 🚀\")\n",
    "\n",
    "# Usamos el estimador ya entrenado para crear el endpoint.\n",
    "# Para el endpoint, podemos usar una instancia más pequeña y económica.\n",
    "endpoint_name = 'rcf-calidad-aire-endpoint'\n",
    "\n",
    "rcf_predictor = rcf.deploy(\n",
    "    initial_instance_count=1,\n",
    "    instance_type='ml.m5.large',\n",
    "    endpoint_name= endpoint_name # Nombre único para tu endpoint\n",
    ")\n",
    "\n",
    "print(f\"¡Endpoint '{rcf_predictor.endpoint_name}' desplegado y listo!\")"
   ]
  },
  {
   "cell_type": "code",
   "execution_count": 12,
   "id": "e49b16b7-cb79-47de-abc9-b5d7613b37a4",
   "metadata": {},
   "outputs": [
    {
     "name": "stdout",
     "output_type": "stream",
     "text": [
      "s3://sagemaker-us-east-2-581549954809/\n"
     ]
    }
   ],
   "source": [
    "# Esta línea te mostrará la ruta exacta en S3 donde se guardó el model.tar.gz\n",
    "print(rcf.output_path)"
   ]
  },
  {
   "cell_type": "code",
   "execution_count": 18,
   "id": "16063fa3-666d-49d7-a224-a6a20c220308",
   "metadata": {},
   "outputs": [
    {
     "name": "stdout",
     "output_type": "stream",
     "text": [
      "Enviando los siguientes datos de prueba:\n",
      "[[1088.   75.   21.   22.    2.    7.]]\n",
      "\n",
      "Resultado recibido (como diccionario):\n",
      "{'scores': [{'score': 0.7317602746}]}\n",
      "\n",
      "✅ ¡Predicción final y correcta!\n",
      "La puntuación de anomalía es: 0.7318\n"
     ]
    }
   ],
   "source": [
    "from sagemaker.predictor import Predictor\n",
    "from sagemaker.serializers import CSVSerializer\n",
    "from sagemaker.deserializers import JSONDeserializer\n",
    "\n",
    "# --- 1. Configuración del Predictor ---\n",
    "# El nombre exacto de tu endpoint desplegado\n",
    "endpoint_name = 'rcf-calidad-aire-endpoint' \n",
    "\n",
    "# Creamos un objeto Predictor genérico\n",
    "predictor = Predictor(\n",
    "    endpoint_name=endpoint_name,\n",
    "    sagemaker_session=sagemaker.Session()\n",
    ")\n",
    "\n",
    "# 2. Le decimos cómo manejar los datos\n",
    "predictor.serializer = CSVSerializer()       # Enviar los datos como CSV\n",
    "predictor.deserializer = JSONDeserializer()  # Recibir la respuesta como un diccionario JSON\n",
    "\n",
    "# --- 3. Preparar los datos de prueba ---\n",
    "# Asegúrate de que tu DataFrame 'df' todavía exista\n",
    "test_data = df.iloc[[0]].values\n",
    "\n",
    "print(\"Enviando los siguientes datos de prueba:\")\n",
    "print(test_data)\n",
    "\n",
    "# --- 4. Hacer la Predicción ---\n",
    "results = predictor.predict(test_data)\n",
    "\n",
    "print(\"\\nResultado recibido (como diccionario):\")\n",
    "print(results)\n",
    "\n",
    "# --- 5. Extraer la Puntuación del Diccionario ---\n",
    "# Ahora el resultado es un diccionario predecible\n",
    "anomaly_score = results['scores'][0]['score']\n",
    "\n",
    "print(\"\\n✅ ¡Predicción final y correcta!\")\n",
    "print(f\"La puntuación de anomalía es: {anomaly_score:.4f}\")"
   ]
  },
  {
   "cell_type": "code",
   "execution_count": null,
   "id": "323a146a-687f-4c01-b3ba-6c68b65f1993",
   "metadata": {},
   "outputs": [],
   "source": [
    "# --- 6. Limpiar recursos para evitar costos ---\n",
    "print(f\"\\nEliminando el endpoint '{rcf_predictor.endpoint_name}'...\")\n",
    "rcf_predictor.delete_endpoint()\n",
    "print(\"¡Endpoint eliminado!\")"
   ]
  },
  {
   "cell_type": "code",
   "execution_count": 19,
   "id": "298498b7-6781-4e2d-8613-d64c0ff5ec4b",
   "metadata": {},
   "outputs": [
    {
     "name": "stdout",
     "output_type": "stream",
     "text": [
      "El DataFrame 'df' ya existe. Omitiendo la carga.\n",
      "\n",
      "Calculando puntuaciones para los 1199 registros. Esto puede tardar un momento...\n",
      "¡Cálculo de puntuaciones completado!\n"
     ]
    }
   ],
   "source": [
    "import pandas as pd\n",
    "import numpy as np\n",
    "import sagemaker\n",
    "from sagemaker.predictor import Predictor\n",
    "from sagemaker.serializers import CSVSerializer\n",
    "from sagemaker.deserializers import JSONDeserializer\n",
    "\n",
    "# --- 1. Cargar tus datos (si aún no están en un DataFrame 'df') ---\n",
    "# Asegúrate de que esta sección se ejecute si reiniciaste el kernel\n",
    "try:\n",
    "    df\n",
    "    print(\"El DataFrame 'df' ya existe. Omitiendo la carga.\")\n",
    "except NameError:\n",
    "    print(\"Cargando datos desde S3 a Pandas...\")\n",
    "    bucket = 'datos-iot-fisi'\n",
    "    prefix = 'calidad-aire/datos-procesados'\n",
    "    file_name = 'datos_procesados_para_rcf.csv'\n",
    "    s3_file_path = f's3://{bucket}/{prefix}/{file_name}'\n",
    "    df = pd.read_csv(s3_file_path, header=None)\n",
    "    print(\"¡Datos cargados con éxito!\")\n",
    "\n",
    "# --- 2. Reconectar al Endpoint ---\n",
    "endpoint_name = 'rcf-calidad-aire-endpoint' \n",
    "predictor = Predictor(\n",
    "    endpoint_name=endpoint_name,\n",
    "    sagemaker_session=sagemaker.Session()\n",
    ")\n",
    "predictor.serializer = CSVSerializer()\n",
    "predictor.deserializer = JSONDeserializer()\n",
    "\n",
    "# --- 3. Calcular las puntuaciones para todo el dataset ---\n",
    "print(f\"\\nCalculando puntuaciones para los {len(df)} registros. Esto puede tardar un momento...\")\n",
    "\n",
    "# Preparamos los datos\n",
    "all_data = df.values.astype('float32')\n",
    "\n",
    "# Invocamos el endpoint\n",
    "results = predictor.predict(all_data)\n",
    "\n",
    "# Extraemos solo las puntuaciones y las guardamos en una nueva columna del DataFrame\n",
    "scores = [record['score'] for record in results['scores']]\n",
    "df['anomaly_score'] = scores\n",
    "\n",
    "print(\"¡Cálculo de puntuaciones completado!\")"
   ]
  },
  {
   "cell_type": "code",
   "execution_count": 20,
   "id": "83307889-ab90-4c44-a6b9-2ac725814896",
   "metadata": {},
   "outputs": [
    {
     "name": "stderr",
     "output_type": "stream",
     "text": [
      "INFO:matplotlib.font_manager:generated new fontManager\n"
     ]
    },
    {
     "name": "stdout",
     "output_type": "stream",
     "text": [
      "\n",
      "--- Análisis Estadístico de las Puntuaciones de Anomalía ---\n",
      "count    1199.000000\n",
      "mean        0.935296\n",
      "std         0.260305\n",
      "min         0.662506\n",
      "25%         0.744526\n",
      "50%         0.889677\n",
      "75%         1.028434\n",
      "max         2.860998\n",
      "Name: anomaly_score, dtype: float64\n",
      "\n",
      "Generando visualizaciones...\n"
     ]
    },
    {
     "data": {
      "image/png": "[encoded data removed]",
      "text/plain": [
       "<Figure size 1500x600 with 2 Axes>"
      ]
     },
     "metadata": {},
     "output_type": "display_data"
    },
    {
     "name": "stdout",
     "output_type": "stream",
     "text": [
      "\n",
      "--- Top 10 Registros con Mayor Puntuación de Anomalía ---\n",
      "        0   1     2   3  4  5  anomaly_score\n",
      "771   220  78  21.0  23  2  7       2.860998\n",
      "192   241  75  21.0  23  2  7       2.837152\n",
      "470   507  77  21.0  22  2  7       2.634440\n",
      "176   659  78  21.0   0  3  7       2.425329\n",
      "896   704  79  20.6   0  3  7       2.350622\n",
      "479   714  80  20.6   0  3  7       2.319336\n",
      "526   717  78  21.0  23  2  7       2.314979\n",
      "681   731  80  20.6   0  3  7       2.284783\n",
      "319  1482  75  21.0  22  2  7       2.236372\n",
      "394   837  77  21.0  23  2  7       2.000554\n"
     ]
    }
   ],
   "source": [
    "import matplotlib.pyplot as plt\n",
    "import seaborn as sns\n",
    "\n",
    "# --- A. Análisis Estadístico ---\n",
    "print(\"\\n--- Análisis Estadístico de las Puntuaciones de Anomalía ---\")\n",
    "# Usamos .describe() para obtener un resumen estadístico completo\n",
    "print(df['anomaly_score'].describe())\n",
    "\n",
    "\n",
    "# --- B. Análisis Visual ---\n",
    "print(\"\\nGenerando visualizaciones...\")\n",
    "\n",
    "# Creamos una figura con dos gráficos\n",
    "plt.figure(figsize=(15, 6))\n",
    "\n",
    "# Gráfico 1: Histograma\n",
    "# Muestra la frecuencia de las diferentes puntuaciones.\n",
    "plt.subplot(1, 2, 1)\n",
    "sns.histplot(df['anomaly_score'], bins=50, kde=True)\n",
    "plt.title('Distribución de Puntuaciones de Anomalía (Histograma)')\n",
    "\n",
    "# Gráfico 2: Diagrama de Caja (Box Plot)\n",
    "# Es excelente para identificar valores atípicos (los puntos fuera de los \"bigotes\").\n",
    "plt.subplot(1, 2, 2)\n",
    "sns.boxplot(x=df['anomaly_score'])\n",
    "plt.title('Identificación de Atípicos (Diagrama de Caja)')\n",
    "\n",
    "plt.tight_layout()\n",
    "plt.show()\n",
    "\n",
    "# --- C. Ver los \"Top 10\" datos más anómalos ---\n",
    "print(\"\\n--- Top 10 Registros con Mayor Puntuación de Anomalía ---\")\n",
    "print(df.sort_values(by='anomaly_score', ascending=False).head(10))"
   ]
  }
 ],
 "metadata": {
  "kernelspec": {
   "display_name": "conda_python3",
   "language": "python",
   "name": "conda_python3"
  },
  "language_info": {
   "codemirror_mode": {
    "name": "ipython",
    "version": 3
   },
   "file_extension": ".py",
   "mimetype": "text/x-python",
   "name": "python",
   "nbconvert_exporter": "python",
   "pygments_lexer": "ipython3",
   "version": "3.10.18"
  }
 },
 "nbformat": 4,
 "nbformat_minor": 5
}
